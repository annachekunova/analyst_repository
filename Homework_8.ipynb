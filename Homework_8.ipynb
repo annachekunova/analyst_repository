{
 "cells": [
  {
   "cell_type": "markdown",
   "metadata": {},
   "source": [
    "### Домашнее задание на тему \"Регулярные выражения и основы синтаксического разбора\"\n",
    "\n"
   ]
  },
  {
   "cell_type": "markdown",
   "metadata": {},
   "source": [
    "Задание 1 Напишите функцию, которая принимает на вход строку и проверяет является ли она валидным транспортным номером (1 буква, 3 цифры, 2 буквы, 2-3 цифры). Обратите внимание, что не все буквы кириллического алфавита используются в транспортных номерах.\n",
    "Если номер валиден, то функция должна возвращать отдельно номер и регион.\n",
    "Примеры работы программы:\n",
    "car_id = 'А222BС96’ Результат: Номер А222BС валиден. Регион: 96\n",
    "car_id = 'АБ22ВВ193’ Результат: Номер не валиден"
   ]
  },
  {
   "cell_type": "code",
   "execution_count": 3,
   "metadata": {},
   "outputs": [
    {
     "name": "stdout",
     "output_type": "stream",
     "text": [
      "Введите номер транспортного средства:р784пр99\n",
      "Номер не валиден.\n"
     ]
    }
   ],
   "source": [
    "car_id = input('Введите номер транспортного средства:')\n",
    "check_number(car_id)"
   ]
  },
  {
   "cell_type": "code",
   "execution_count": 2,
   "metadata": {},
   "outputs": [],
   "source": [
    "def check_number(car_id):\n",
    "    import re\n",
    "    pattern_1 = r'[\\dА-ЕЖ-ИК-ЩЭ-Я_][0-9]{3}[\\dА-ЕЖ-ИК-ЩЭ-Я_]{2}[0-9]{2}'\n",
    "    pattern_2 = r'[\\dА-ЕЖ-ИК-ЩЭ-Я_][0-9]{3}[\\dА-ЕЖ-ИК-ЩЭ-Я_]{2}[0-9]{3}'\n",
    "\n",
    "\n",
    "    if(re.fullmatch(pattern_1,car_id) or re.fullmatch(pattern_2,car_id)):\n",
    "        num_car = car_id[:6]\n",
    "        print('Номер:', num_car, 'валиден.' 'Регион:', car_id[6:])\n",
    "        return\n",
    "    else:\n",
    "        print('Номер не валиден.')\n",
    "        return\n",
    "    "
   ]
  },
  {
   "cell_type": "markdown",
   "metadata": {},
   "source": [
    "Задание 2\n",
    "Напишите функцию, которая будет удалять все последовательные повторы слов из заданной строки при помощи регулярных выражений.\n",
    "\n",
    "Пример работы программы:\n",
    "\n",
    "some_string = ‘Напишите функцию функцию, которая будет будет будет будет удалять все все все все последовательные повторы слов из из из из заданной строки строки при помощи регулярных выражений’\n",
    "\n",
    "Результат: Напишите функцию, которая будет удалять все последовательные повторы слов из заданной строки при помощи регулярных выражений."
   ]
  },
  {
   "cell_type": "code",
   "execution_count": 145,
   "metadata": {},
   "outputs": [],
   "source": [
    "def del_repeat(string):\n",
    "    import re\n",
    "    string_new = re.sub(r'(?i)\\b(\\w+)(\\s+\\1\\b)+', r'\\1', string)\n",
    "    return(string_new)\n",
    "    "
   ]
  },
  {
   "cell_type": "code",
   "execution_count": 146,
   "metadata": {},
   "outputs": [
    {
     "data": {
      "text/plain": [
       "'Напишите функцию, которая будет удалять все последовательные повторы слов из заданной строки при помощи регулярных выражений.'"
      ]
     },
     "execution_count": 146,
     "metadata": {},
     "output_type": "execute_result"
    }
   ],
   "source": [
    "string = 'Напишите функцию Функцию, которая будет   Будет будет будет удалять все все все все последовательные повторы слов из из из из заданной строки строки при помощи регулярных выражений.'\n",
    "del_repeat(string)"
   ]
  },
  {
   "cell_type": "markdown",
   "metadata": {},
   "source": [
    "Задание 3\n",
    "Напишите функцию, которая будет возвращать акроним по переданной в нее строке со словами.\n",
    "\n",
    "Примеры работы программы:\n",
    "\n",
    "some_words = 'Информационные технологии’\n",
    "Результат: ИТ\n",
    "\n",
    "some_words = 'Near Field Communication’\n",
    "Результат: NFC"
   ]
  },
  {
   "cell_type": "code",
   "execution_count": 142,
   "metadata": {},
   "outputs": [],
   "source": [
    "def acronym(some_words):\n",
    "    import re\n",
    "    return(re.sub(r'(\\w)\\w*\\s*', r'\\1', some_words).upper())"
   ]
  },
  {
   "cell_type": "code",
   "execution_count": 167,
   "metadata": {},
   "outputs": [
    {
     "data": {
      "text/plain": [
       "'ИТ'"
      ]
     },
     "execution_count": 167,
     "metadata": {},
     "output_type": "execute_result"
    }
   ],
   "source": [
    "some_words = 'Информационные технологии'\n",
    "acronym(some_words)"
   ]
  },
  {
   "cell_type": "markdown",
   "metadata": {},
   "source": [
    "Задание 4\n",
    "Напишите функцию, которая будет принимать на вход список email-адресов и выводить их распределение по доменным зонам.\n",
    "\n",
    "Пример работы программы:\n",
    "\n",
    "emails = [‘test@gmail.com, xyz@test.in, test@ya.ru, xyz@mail.ru, xyz@ya.ru’, xyz@gmail.com]\n",
    "\n",
    "Результат:\n",
    "\n",
    "gmail.com: 2\n",
    "test.in: 1\n",
    "ya.ru: 2\n",
    "mail.ru: 1"
   ]
  },
  {
   "cell_type": "code",
   "execution_count": 172,
   "metadata": {},
   "outputs": [
    {
     "name": "stdout",
     "output_type": "stream",
     "text": [
      "['gmail.com', 'test.in', 'ya.ru', 'ya.ru', 'gmail.com']\n",
      "gmail.com : 2\n",
      "test.in : 1\n",
      "ya.ru : 2\n"
     ]
    }
   ],
   "source": [
    "ems = 'test@gmail.com, xyz@test.in, test@ya.ru, hgj@ya.ru, jdgkjs@gmail.com'\n",
    "import re\n",
    "ems_list = re.findall(r'(?<=@)\\w+\\.\\w{2,3}', ems)\n",
    "\n",
    "new_list=[] #новый список чтобы убрать повторы\n",
    "\n",
    "for i in range(len(ems_list)):\n",
    "    count_ = ems_list.count(ems_list[i])\n",
    "    if(ems_list[i] not in b):\n",
    "        new_list.append(ems_list[i])  \n",
    "            \n",
    "        print(ems_list[i],':', count_ )\n",
    "\n",
    "\n"
   ]
  },
  {
   "cell_type": "code",
   "execution_count": 181,
   "metadata": {},
   "outputs": [],
   "source": [
    "def domain(ems):\n",
    "    ems_list = re.findall(r'(?<=@)\\w+\\.\\w{2,3}', ems)\n",
    "\n",
    "    new_list=[] #новый список чтобы убрать повторы\n",
    "\n",
    "    for i in range(len(ems_list)):\n",
    "        count_ = ems_list.count(ems_list[i])\n",
    "        if(ems_list[i] not in new_list):\n",
    "            new_list.append(ems_list[i])  \n",
    "            \n",
    "            print(ems_list[i],':', count_ )\n"
   ]
  },
  {
   "cell_type": "code",
   "execution_count": 182,
   "metadata": {},
   "outputs": [
    {
     "name": "stdout",
     "output_type": "stream",
     "text": [
      "gmail.com : 2\n",
      "test.in : 1\n",
      "ya.ru : 2\n"
     ]
    }
   ],
   "source": [
    "ems = 'test@gmail.com, xyz@test.in, test@ya.ru, hgj@ya.ru, jdgkjs@gmail.com'\n",
    "import re\n",
    "domain(ems)"
   ]
  },
  {
   "cell_type": "markdown",
   "metadata": {},
   "source": [
    "Задание 5 (необязательное)\n",
    "\n",
    "Напишите функцию, которая будет подсчитывать сколько слов начинается на гласные, а сколько на согласные буквы в тексте (текст может быть написан как с использованием букв кириллицы, так и латиницы).\n",
    "\n",
    "Пример работы программы:\n",
    "\n",
    "some_text = ‘Эталонной реализацией Python является интерпретатор CPython, поддерживающий большинство активно используемых платформ. Он распространяется под свободной лицензией Python Software Foundation License, позволяющей использовать его без ограничений в любых приложениях, включая проприетарные.’\n",
    "\n",
    "Результат:\n",
    "\n",
    "Слов на гласные буквы: 9\n",
    "Слов на согласные буквы: 21"
   ]
  },
  {
   "cell_type": "code",
   "execution_count": 19,
   "metadata": {},
   "outputs": [],
   "source": [
    "import re"
   ]
  },
  {
   "cell_type": "code",
   "execution_count": 22,
   "metadata": {},
   "outputs": [
    {
     "name": "stdout",
     "output_type": "stream",
     "text": [
      "Слов на гласные буквы: 7\n",
      "Слов на согласные буквы: 19\n"
     ]
    }
   ],
   "source": [
    "some_text = 'Эталонной реалиор, поддерживающий большинство активно используемых платформ. Он распространяется под свободной лицензией Python Software Foundation License, позволяющей использовать его без ограничений в любых приложениях, включая проприетарные.'\n",
    "vowelcons(some_text)"
   ]
  },
  {
   "cell_type": "code",
   "execution_count": 23,
   "metadata": {},
   "outputs": [],
   "source": [
    "def vowelcons(string):\n",
    "    string_list = re.findall(r'\\w+', string)\n",
    "\n",
    "    ### гласные буквы\n",
    "    pattern_1 = r'^[аоуэыяёюеиaeoiuАОУЭЫЯЁЮЕИAEOIU]'\n",
    "\n",
    "    ### согласные буквы\n",
    "    pattern_2 = r'^[бвгджзйклмнпрстфхцчшщbcdfghjklmnpqrstvzБВГДЖЗЙКЛМНПРСТФХЦЧШЩBCDFGHJKLMNPQRSTVZ]'\n",
    "    ### счетчик гласных\n",
    "    vowel = 0\n",
    "\n",
    "    ### счетчик согласных\n",
    "    cons = 0\n",
    "\n",
    "    for word in string_list:\n",
    "        if re.findall(pattern_1, word):\n",
    "            vowel +=1\n",
    "        if re.findall(pattern_2, word):\n",
    "            cons +=1\n",
    "        \n",
    "    print('Слов на гласные буквы:', vowel) \n",
    "    print('Слов на согласные буквы:', cons)\n",
    "    return    \n",
    "        \n",
    "    \n",
    "    \n",
    "    "
   ]
  },
  {
   "cell_type": "markdown",
   "metadata": {},
   "source": [
    "Задание 6 (необязательное)\n",
    "\n",
    "Напишите функцию, которая будет проверять номер сотового телефона на валидность, если он валиден, то переводить его в формат:\n",
    "+7-xxx-xxx-xx-xx\n",
    "Постарайтесь предусмотреть как можно больше адекватных форматов изначального ввода номера. Примеры работы программы:\n",
    "\n",
    "phone = '+7 955 555-55-55’\n",
    "Результат: +7-950-555-55-55\n",
    "\n",
    "phone = '8(955)555-55-55’\n",
    "Результат: +7-950-555-55-55\n",
    "\n",
    "phone = '+7 955 555 55 55’\n",
    "Результат: +7-950-555-55-55\n",
    "\n",
    "phone = '7(955) 555-55-55’\n",
    "Результат: +7-950-555-55-55\n",
    "\n",
    "phone = '423-555-55-5555’\n",
    "Результат: Номер не валиден\n",
    "\n",
    "phone = '123-456-789’\n",
    "Результат: Номер не валиден\n",
    "\n"
   ]
  },
  {
   "cell_type": "code",
   "execution_count": 62,
   "metadata": {},
   "outputs": [
    {
     "name": "stdout",
     "output_type": "stream",
     "text": [
      "Введите номер телефона:8(955)555-55-55\n",
      "OK\n"
     ]
    }
   ],
   "source": [
    "phone_number = input('Введите номер телефона:')\n",
    "check_phone(phone_number)"
   ]
  },
  {
   "cell_type": "code",
   "execution_count": 61,
   "metadata": {},
   "outputs": [],
   "source": [
    "def check_phone(phone_number):\n",
    "    import re\n",
    "    pattern_1 = r'(8|\\+7|7)(\\s*)?(\\+)?([- _():=+]?\\d[- _():=+]?){10}(\\s*)?'\n",
    "    \n",
    "\n",
    "    if re.fullmatch(pattern_1,phone_number):\n",
    "        result = phone_number.replace(r'(8|\\+7|7)(\\s*)?(\\+)?([- _():=+]?\\d[- _():=+]?){10}(\\s*)?', ''); \n",
    "        print('OK')\n",
    "        \n",
    "        return\n",
    "    else:\n",
    "        print('Номер не валиден.')\n",
    "        return"
   ]
  },
  {
   "cell_type": "code",
   "execution_count": null,
   "metadata": {},
   "outputs": [],
   "source": []
  },
  {
   "cell_type": "code",
   "execution_count": null,
   "metadata": {},
   "outputs": [],
   "source": []
  },
  {
   "cell_type": "code",
   "execution_count": null,
   "metadata": {},
   "outputs": [],
   "source": []
  },
  {
   "cell_type": "code",
   "execution_count": null,
   "metadata": {},
   "outputs": [],
   "source": [
    "\n"
   ]
  },
  {
   "cell_type": "code",
   "execution_count": null,
   "metadata": {},
   "outputs": [],
   "source": []
  }
 ],
 "metadata": {
  "kernelspec": {
   "display_name": "Python 3",
   "language": "python",
   "name": "python3"
  },
  "language_info": {
   "codemirror_mode": {
    "name": "ipython",
    "version": 3
   },
   "file_extension": ".py",
   "mimetype": "text/x-python",
   "name": "python",
   "nbconvert_exporter": "python",
   "pygments_lexer": "ipython3",
   "version": "3.8.5"
  }
 },
 "nbformat": 4,
 "nbformat_minor": 4
}
