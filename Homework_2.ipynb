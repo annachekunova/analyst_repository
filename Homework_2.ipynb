{
 "cells": [
  {
   "cell_type": "code",
   "execution_count": null,
   "metadata": {},
   "outputs": [],
   "source": [
    "# Задание 1. Вывод букв из слова"
   ]
  },
  {
   "cell_type": "code",
   "execution_count": 603,
   "metadata": {},
   "outputs": [
    {
     "name": "stdout",
     "output_type": "stream",
     "text": [
      "sm\n"
     ]
    }
   ],
   "source": [
    "word = \"kosmos\"\n",
    "len_word = len(word)\n",
    "k = len_word % 2\n",
    "z = int(len_word/2)\n",
    "if(k ==0):\n",
    "    print(word [z-1:z+1])\n",
    "\n",
    "else:\n",
    "    print(word [z])"
   ]
  },
  {
   "cell_type": "code",
   "execution_count": null,
   "metadata": {},
   "outputs": [],
   "source": [
    "# Задание 2. "
   ]
  },
  {
   "cell_type": "code",
   "execution_count": 427,
   "metadata": {},
   "outputs": [
    {
     "name": "stdout",
     "output_type": "stream",
     "text": [
      "Введите число: 2\n",
      "Введите число: 2\n",
      "Введите число: 4\n",
      "Введите число: 0\n",
      "8\n"
     ]
    }
   ],
   "source": [
    "user_input = ()\n",
    "list_1 = []\n",
    "while(user_input != 0):\n",
    "    user_input = int(input (\"Введите число: \"))\n",
    "    list_1.append(user_input)\n",
    "\n",
    "print(sum (list_1))"
   ]
  },
  {
   "cell_type": "code",
   "execution_count": null,
   "metadata": {},
   "outputs": [],
   "source": [
    "# Задание 3. Идеальные пары"
   ]
  },
  {
   "cell_type": "code",
   "execution_count": 142,
   "metadata": {},
   "outputs": [
    {
     "name": "stdout",
     "output_type": "stream",
     "text": [
      "Идеальные пары:\n",
      "Alex и Emma\n",
      "Arthur и Kate\n",
      "John и Kira\n",
      "Peter и Liza\n",
      "Richard и Trisha\n"
     ]
    }
   ],
   "source": [
    "import copy\n",
    "\n",
    "boys = ['Peter', 'Alex', 'John', 'Arthur', 'Richard']\n",
    "girls = ['Kate', 'Liza', 'Kira', 'Emma', 'Trisha']\n",
    "\n",
    "boys_sort = sorted(copy.copy(boys))\n",
    "girls_sort = sorted(copy.copy(girls))\n",
    "\n",
    "lens_boys = len(boys_sort)\n",
    "lens_girls = len(girls_sort)\n",
    "\n",
    "if(lens_boys == lens_girls):\n",
    "    print (\"Идеальные пары:\")\n",
    "    boys_girls = zip(boys_sort, girls_sort)\n",
    "    for i in range (0,lens_boys):\n",
    "        print(boys_sort[i], \"и\", girls_sort[i])\n",
    "else:\n",
    "    print (\"Внимание, кто-то может остаться без пары!\")"
   ]
  },
  {
   "cell_type": "code",
   "execution_count": null,
   "metadata": {},
   "outputs": [],
   "source": [
    "# Задание 4. Средняя температура"
   ]
  },
  {
   "cell_type": "code",
   "execution_count": 162,
   "metadata": {},
   "outputs": [
    {
     "name": "stdout",
     "output_type": "stream",
     "text": [
      "Thailand - 23.9\n",
      "Germany - 13.8\n",
      "Russia - 3.7\n",
      "Poland - 12.0\n"
     ]
    }
   ],
   "source": [
    "countries_temperature = [\n",
    "['Thailand', [75.2, 77, 78.8, 73.4, 68, 75.2, 77]],\n",
    "['Germany', [57.2, 55.4, 59, 59, 53.6]],\n",
    "['Russia', [35.6, 37.4, 39.2, 41, 42.8, 39.2, 35.6]],\n",
    "['Poland', [50, 50, 53.6, 57.2, 55.4, 55.4]]\n",
    "]\n",
    "# цельсий = (фаренгейт-32):1,8\n",
    "\n",
    "for country in countries_temperature:\n",
    "    print(country [0], '-', round(((sum(country [1])/len (country [1]) - 32)/1.8), 1))  \n",
    "      "
   ]
  },
  {
   "cell_type": "code",
   "execution_count": null,
   "metadata": {},
   "outputs": [],
   "source": [
    "# Задание 5. "
   ]
  },
  {
   "cell_type": "code",
   "execution_count": 602,
   "metadata": {},
   "outputs": [
    {
     "name": "stdout",
     "output_type": "stream",
     "text": [
      "Среднее количество просмотров на уникального пользователя:  23.25\n"
     ]
    }
   ],
   "source": [
    "stream = [\n",
    "'2018-01-01,user1,3',\n",
    "'2018-01-07,user1,4',\n",
    "'2018-03-29,user1,1',\n",
    "'2018-04-04,user1,13',\n",
    "'2018-01-05,user2,7',\n",
    "'2018-06-14,user3,4',\n",
    "'2018-07-02,user3,10',\n",
    "'2018-03-21,user4,19',\n",
    "'2018-03-22,user4,4',\n",
    "'2018-04-22,user4,8',\n",
    "'2018-05-03,user4,9',\n",
    "'2018-05-11,user4,11'\n",
    "]\n",
    "\n",
    "number_list = []\n",
    "user_list = []\n",
    "\n",
    "for line in stream:\n",
    "    line_list = line.split(',') \n",
    "    number_list.append(int(line_list [2]))\n",
    "    user_list.append(line_list [1])\n",
    "user_list = set (user_list)\n",
    "len_user_list = len (user_list)\n",
    "\n",
    "sum_1 = sum (number_list)\n",
    "print(\"Среднее количество просмотров на уникального пользователя: \", round((sum_1/len_user_list),2))\n"
   ]
  },
  {
   "cell_type": "code",
   "execution_count": null,
   "metadata": {},
   "outputs": [],
   "source": [
    "\n"
   ]
  }
 ],
 "metadata": {
  "kernelspec": {
   "display_name": "Python 3",
   "language": "python",
   "name": "python3"
  },
  "language_info": {
   "codemirror_mode": {
    "name": "ipython",
    "version": 3
   },
   "file_extension": ".py",
   "mimetype": "text/x-python",
   "name": "python",
   "nbconvert_exporter": "python",
   "pygments_lexer": "ipython3",
   "version": "3.8.5"
  }
 },
 "nbformat": 4,
 "nbformat_minor": 4
}
