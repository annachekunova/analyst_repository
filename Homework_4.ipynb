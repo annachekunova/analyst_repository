{
 "cells": [
  {
   "cell_type": "markdown",
   "metadata": {},
   "source": [
    "### Вам нужно помочь секретарю автоматизировать работу. Для этого нужно написать программу, которая будет на основе хранимых данных исполнять пользовательские команды.\n",
    "\n",
    "1. перечень всех документов\n",
    "\n",
    "documents = [\n",
    "{‘type’: ‘passport’, ‘number’: ‘2207 876234’, ‘name’: ‘Василий Гупкин’},\n",
    "{‘type’: ‘invoice’, ‘number’: ‘11-2’, ‘name’: ‘Геннадий Покемонов’},\n",
    "{‘type’: ‘insurance’, ‘number’: ‘10006’, ‘name’: ‘Аристарх Павлов’}\n",
    "]\n",
    "\n",
    "2.перечень полок, на которых хранятся документы (если документ есть в documents, то он обязательно должен быть и в directories)\n",
    "\n",
    "directories = {\n",
    "‘1’: [‘2207 876234’, ‘11-2’],\n",
    "‘2’: [‘10006’],\n",
    "‘3’: []\n",
    "}\n",
    "\n",
    "Общие требования к программе:\n",
    "\n",
    "код должен быть грамотно декомпозирован (каждая функция отвечает за свою конкретную задачу, дублирующийся функционал переиспользуется, а его код не повторяется);\n",
    "в коде отсутствуют глобальные переменные (за исключением documents и directories);\n",
    "пользовательский ввод обрабатывается в цикле while до тех пор, пока пользователь явно не завершит программу (вводом команды “q”)."
   ]
  },
  {
   "cell_type": "code",
   "execution_count": 299,
   "metadata": {},
   "outputs": [],
   "source": [
    "documents = [\n",
    "{ 'type': 'passport', 'number': '2207 876234', 'name': 'Василий Гупкин'},\n",
    "{'type': 'invoice', 'number': '112', 'name': 'Геннадий Покемонов'},\n",
    "{'type': 'insurance', 'number': '10006', 'name': 'Аристарх Павлов'}\n",
    "]\n",
    "\n",
    "directories = {\n",
    "'1': ['2207 876234', '112'],\n",
    "'2': ['10006'],\n",
    "'3': []\n",
    "}"
   ]
  },
  {
   "cell_type": "code",
   "execution_count": 300,
   "metadata": {},
   "outputs": [],
   "source": [
    "\n",
    "def main(documents):\n",
    "    print('p - Пользователь по команде “p” может узнать владельца документа по его номеру')\n",
    "    print('s - Пользователь по команде “s” может по номеру документа узнать на какой полке он хранится')\n",
    "    print('l - Пользователь по команде “l” может увидеть полную информацию по всем документам')\n",
    "    print('as - Пользователь по команде “as” может добавить новую полку')\n",
    "    print('ds - Пользователь по команде “ds” может удалить существующую полку из данных (только если она пустая)')\n",
    "    \n",
    "    while True:\n",
    "        user_input_cmd = input('Введите команду: ')\n",
    "        if(user_input_cmd == 'p'):\n",
    "            user_input_doc_1 = input('Введите номер документа: ')\n",
    "            numchek(user_input_doc_1)\n",
    "        elif(user_input_cmd == 's'):\n",
    "            user_input_doc_2 = input('Введите номер документа: ')\n",
    "            doc_place(user_input_doc_2)\n",
    "        elif(user_input_cmd == 'l'):\n",
    "            for number_ in documents:\n",
    "                number_doc = number_['number']\n",
    "                print('№:', number_['number'], 'тип:', number_['type'], 'владелец:', number_['name'], 'полка:', stage_return(number_doc))\n",
    "        elif(user_input_cmd == 'as'):\n",
    "            number_stage = input('Введите номер полки: ')\n",
    "            stage_check(number_stage)\n",
    "        elif(user_input_cmd == 'ds'):\n",
    "            number_stage_5 = input('Введите номер полки: ')\n",
    "            stage_del(number_stage_5)\n",
    "\n",
    "        if (user_input_cmd == 'q'):\n",
    "            print('Завершение программы')\n",
    "            break\n",
    "                "
   ]
  },
  {
   "cell_type": "code",
   "execution_count": 307,
   "metadata": {},
   "outputs": [
    {
     "name": "stdout",
     "output_type": "stream",
     "text": [
      "p - Пользователь по команде “p” может узнать владельца документа по его номеру\n",
      "s - Пользователь по команде “s” может по номеру документа узнать на какой полке он хранится\n",
      "l - Пользователь по команде “l” может увидеть полную информацию по всем документам\n",
      "as - Пользователь по команде “as” может добавить новую полку\n",
      "ds - Пользователь по команде “ds” может удалить существующую полку из данных (только если она пустая)\n",
      "Введите команду: p\n",
      "Введите номер документа: 10006\n",
      "Владелец:  Аристарх Павлов\n",
      "Введите команду: s\n",
      "Введите номер документа: 10006\n",
      "Документ хранится на полке:  2\n",
      "Введите команду: l\n",
      "№: 2207 876234 тип: passport владелец: Василий Гупкин полка: 1\n",
      "№: 112 тип: invoice владелец: Геннадий Покемонов полка: 1\n",
      "№: 10006 тип: insurance владелец: Аристарх Павлов полка: 2\n",
      "Введите команду: as\n",
      "Введите номер полки: 7\n",
      "Полка добавлена. Текущий перечень полок: 1, 2, 3, 7\n",
      "Введите команду: ds\n",
      "Введите номер полки: 2\n",
      "На полке есть документ, удалите их перед удалением полки. Текущий перечень полок: 1, 2, 3, 7\n",
      "Введите команду: ds\n",
      "Введите номер полки: 3\n",
      "Полка удалена. Текущий перечень полок: 1, 2, 7\n",
      "Введите команду: ds\n",
      "Введите номер полки: 7\n",
      "Полка удалена. Текущий перечень полок: 1, 2\n",
      "Введите команду: q\n",
      "Завершение программы\n"
     ]
    }
   ],
   "source": [
    "main(documents)"
   ]
  },
  {
   "cell_type": "code",
   "execution_count": 301,
   "metadata": {},
   "outputs": [],
   "source": [
    "def numchek(doc_number):\n",
    "    \"\"\"Поиск владельца по номеру документа\"\"\"\n",
    "    for number in documents:\n",
    "        if(number['number'] == doc_number):\n",
    "            print('Владелец: ', number['name'])\n",
    "            return\n",
    "\n",
    "    return(print('Документ не найден в базе'))"
   ]
  },
  {
   "cell_type": "code",
   "execution_count": 302,
   "metadata": {},
   "outputs": [],
   "source": [
    "def doc_place(number):  \n",
    "    \"\"\"Функция по введенному номеру документа выводит номер полки\"\"\"\n",
    "    for key, value in directories.items():\n",
    "        if(number in value):\n",
    "            print('Документ хранится на полке: ', key)\n",
    "            return(number) \n",
    "\n",
    "    print('Документ не найден в базе')"
   ]
  },
  {
   "cell_type": "code",
   "execution_count": 303,
   "metadata": {},
   "outputs": [],
   "source": [
    "def stage_return(stage_number):  \n",
    "    \"\"\"Функция возвращает ключ по значению \"\"\"\n",
    "    for key, value in directories.items():\n",
    "        if(stage_number in value):\n",
    "            return(key)  "
   ]
  },
  {
   "cell_type": "code",
   "execution_count": 304,
   "metadata": {},
   "outputs": [],
   "source": [
    "def stage_check(number_stage):\n",
    "    \"\"\"Функция добавляет полку\"\"\"\n",
    "    for key in directories.keys():\n",
    "        if(number_stage in key):\n",
    "            print('Такая полка существует.', 'Текущий перечень полок:' ,  stage_return_keys(directories))\n",
    "            return\n",
    "        \n",
    "    directories[number_stage] = []\n",
    "    print('Полка добавлена.', 'Текущий перечень полок:', stage_return_keys(directories))\n",
    "    return(1)"
   ]
  },
  {
   "cell_type": "code",
   "execution_count": 305,
   "metadata": {},
   "outputs": [],
   "source": [
    "def stage_del(number_stage_5):\n",
    "    \"\"\"Функция удаляет полку\"\"\"\n",
    "    for key, value in directories.items():\n",
    "        if(number_stage_5 not in directories):\n",
    "            print('Такой полки не существует.', 'Текущий перечень полок:',  stage_return_keys(directories))\n",
    "            return\n",
    "        elif(number_stage_5 in key and len(value) == 0):\n",
    "            del directories[key]\n",
    "            print('Полка удалена.', 'Текущий перечень полок:',stage_return_keys(directories))\n",
    "            return\n",
    "        elif(number_stage_5 in key and len(value) != 0):\n",
    "            print('На полке есть документ, удалите их перед удалением полки.', 'Текущий перечень полок:', stage_return_keys(directories))\n",
    "            return"
   ]
  },
  {
   "cell_type": "code",
   "execution_count": 306,
   "metadata": {},
   "outputs": [],
   "source": [
    "def stage_return_keys(dict_):\n",
    "    \"\"\"Функция вовзращает перечень полок\"\"\"\n",
    "    list_new=[]\n",
    "    for key in dict_:\n",
    "        list_new.append(str(key))\n",
    "    return(', '.join(list_new))\n",
    "  \n",
    "    "
   ]
  },
  {
   "cell_type": "code",
   "execution_count": null,
   "metadata": {},
   "outputs": [],
   "source": []
  },
  {
   "cell_type": "code",
   "execution_count": null,
   "metadata": {},
   "outputs": [],
   "source": []
  },
  {
   "cell_type": "code",
   "execution_count": null,
   "metadata": {},
   "outputs": [],
   "source": []
  },
  {
   "cell_type": "code",
   "execution_count": null,
   "metadata": {},
   "outputs": [],
   "source": []
  }
 ],
 "metadata": {
  "kernelspec": {
   "display_name": "Python 3",
   "language": "python",
   "name": "python3"
  },
  "language_info": {
   "codemirror_mode": {
    "name": "ipython",
    "version": 3
   },
   "file_extension": ".py",
   "mimetype": "text/x-python",
   "name": "python",
   "nbconvert_exporter": "python",
   "pygments_lexer": "ipython3",
   "version": "3.8.5"
  }
 },
 "nbformat": 4,
 "nbformat_minor": 4
}
