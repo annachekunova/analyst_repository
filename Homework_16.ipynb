{
 "cells": [
  {
   "cell_type": "markdown",
   "metadata": {},
   "source": [
    "### Домашнее задание к лекции «Случайные события. Случайные величины»"
   ]
  },
  {
   "cell_type": "markdown",
   "metadata": {},
   "source": [
    "Смоделировать игру против лотерейного автомата типа “777”. Игрок платит 1 руб., после чего выпадает случайное целое число, равномерно распределенное от 0 до 999. При некоторых значениях числа игрок получает выигрыш (см. справа)\n",
    "\n",
    "Выгодна ли игра игроку?\n",
    "\n",
    "Сколько в среднем приобретает\n",
    "или теряет игрок за одну игру?\n",
    "\n",
    "777: 200 руб.\n",
    "999: 100 руб.\n",
    "555: 50 руб.\n",
    "333: 15 руб.\n",
    "111: 10 руб.\n",
    "*77: 5 руб.\n",
    "**7: 3 руб.\n",
    "*00: 2 руб.\n",
    "**0: 1 руб.\n",
    "\n",
    "– любая цифра\n",
    "   Дополнительное задание повышенной сложности. Теоретически рассчитать средний выигрыш (проигрыш) и сравнить с результатами моделирования"
   ]
  },
  {
   "cell_type": "code",
   "execution_count": null,
   "metadata": {},
   "outputs": [],
   "source": [
    "import numpy as np\n",
    "import pandas as pd\n",
    "import random"
   ]
  },
  {
   "cell_type": "code",
   "execution_count": 61,
   "metadata": {},
   "outputs": [
    {
     "name": "stdout",
     "output_type": "stream",
     "text": [
      "Вероятность выигрыша: 24 %\n",
      "Потратили на игру: 100 руб.\n",
      "Выиграли: 47 руб.\n"
     ]
    }
   ],
   "source": [
    "trials = 100    # количество игр (стоимость одной игры 1 руб)\n",
    "win = 0         # выигрыш (руб)\n",
    "successes = 0   # количество успехов \n",
    "\n",
    "for i in range(trials):\n",
    "    num = random.randrange(1, 10**3)  # случайное число\n",
    "    if num == '777':\n",
    "        win += 200\n",
    "        successes +=1\n",
    "    if num == '999':\n",
    "        win += 100\n",
    "        successes +=1\n",
    "    if num == '555':\n",
    "        win += 50\n",
    "        successes +=1\n",
    "    if num == '333':\n",
    "        win += 15\n",
    "        successes +=1\n",
    "    if num == '111':\n",
    "        win += 10\n",
    "        successes +=1\n",
    "    if num % 100 == 77:\n",
    "        win += 5\n",
    "        successes +=1\n",
    "    if num % 10 == 7:\n",
    "        win += 3\n",
    "        successes +=1\n",
    "    if num % 100 == 0:\n",
    "        win += 2\n",
    "        successes +=1\n",
    "    if num % 10 == 0:\n",
    "        win += 1\n",
    "        successes +=1\n",
    "        \n",
    "print(\"Вероятность выигрыша:\", round((successes / trials)*100), \"%\")    # вероятность выигрыша\n",
    "print(\"Потратили на игру:\", trials, \"руб.\")\n",
    "print(\"Выиграли:\", win, \"руб.\")\n",
    "\n"
   ]
  },
  {
   "cell_type": "markdown",
   "metadata": {},
   "source": [
    "Игра не выгодна игроку."
   ]
  },
  {
   "cell_type": "markdown",
   "metadata": {},
   "source": [
    " 777: 200 руб.    | Вероятность выпадения 777 - 1/1000   \n",
    " 999: 100 руб.    | Вероятность выпадения 999 - 1/1000   \n",
    " 555: 50 руб.     | Вероятность выпадения 555 - 1/1000   \n",
    " 333: 15 руб.     | Вероятность выпадения 333 - 1/1000   \n",
    " 111: 10 руб.     | Вероятность выпадения 111 - 1/1000   \n",
    " *77: 5 руб.      | Вероятность выпадения *77 - 1/100   \n",
    " **7: 3 руб.      | Вероятность выпадения **7 - 1/10   \n",
    " *00: 2 руб.      | Вероятность выпадения *00 - 1/100   \n",
    " **0: 1 руб.      | Вероятность выпадения **0 - 1/10   \n",
    "\n",
    "\n",
    "\n",
    "Вероятность выигрыша = 22.5 %\n",
    "\n",
    "Далее рассчитываю средний выигрыш (s): 0.845 руб.\n",
    "\n"
   ]
  },
  {
   "cell_type": "code",
   "execution_count": 62,
   "metadata": {},
   "outputs": [
    {
     "data": {
      "text/plain": [
       "22.5"
      ]
     },
     "execution_count": 62,
     "metadata": {},
     "output_type": "execute_result"
    }
   ],
   "source": [
    "p = (0.001*5 + 0.01*2 + 0.1*2)*100\n",
    "p"
   ]
  },
  {
   "cell_type": "code",
   "execution_count": 65,
   "metadata": {},
   "outputs": [
    {
     "data": {
      "text/plain": [
       "0.845"
      ]
     },
     "execution_count": 65,
     "metadata": {},
     "output_type": "execute_result"
    }
   ],
   "source": [
    "s = (200+100+50+15+10)*0.001+(5+2)*0.01+(3+1)*0.1\n",
    "s"
   ]
  },
  {
   "cell_type": "code",
   "execution_count": null,
   "metadata": {},
   "outputs": [],
   "source": []
  }
 ],
 "metadata": {
  "kernelspec": {
   "display_name": "Python 3",
   "language": "python",
   "name": "python3"
  },
  "language_info": {
   "codemirror_mode": {
    "name": "ipython",
    "version": 3
   },
   "file_extension": ".py",
   "mimetype": "text/x-python",
   "name": "python",
   "nbconvert_exporter": "python",
   "pygments_lexer": "ipython3",
   "version": "3.8.5"
  }
 },
 "nbformat": 4,
 "nbformat_minor": 4
}
