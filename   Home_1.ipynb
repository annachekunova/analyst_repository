{
 "cells": [
  {
   "cell_type": "code",
   "execution_count": 37,
   "metadata": {},
   "outputs": [],
   "source": [
    "# Задание 1. Сравнение длин строк."
   ]
  },
  {
   "cell_type": "code",
   "execution_count": null,
   "metadata": {
    "scrolled": true
   },
   "outputs": [],
   "source": [
    "phrase_2 = 'Дети учатся на примере взрослого, а не на его словах.Карл Густав Юнг'\n",
    "phrase_1 = 'Мы редко смотрим на то, что нас объединяет, мы смотрим на то, чем мы отличаемся, тогда у нас появляется возможность ненавидеть и убивать друг друг. Фредерик Перлз'"
   ]
  },
  {
   "cell_type": "code",
   "execution_count": 39,
   "metadata": {},
   "outputs": [],
   "source": [
    "dlina1 = len (phrase_1)\n",
    "dlina2 = len (phrase_2)\n"
   ]
  },
  {
   "cell_type": "code",
   "execution_count": 40,
   "metadata": {},
   "outputs": [
    {
     "name": "stdout",
     "output_type": "stream",
     "text": [
      "Фраза 1 длиннее фразы 2\n"
     ]
    }
   ],
   "source": [
    "if dlina1 > dlina2:\n",
    "    print (\"Фраза 1 длиннее фразы 2\")\n",
    "if dlina1 < dlina2:\n",
    "    print (\"Фраза 2 длиннее фразы 1\")\n",
    "if dlina1 == dlina2:\n",
    "    print (\"Фразы равной длины\")"
   ]
  },
  {
   "cell_type": "code",
   "execution_count": null,
   "metadata": {},
   "outputs": [],
   "source": [
    "# Задание 2. Проверка года"
   ]
  },
  {
   "cell_type": "code",
   "execution_count": 99,
   "metadata": {},
   "outputs": [
    {
     "name": "stdout",
     "output_type": "stream",
     "text": [
      "Введите год 2020\n",
      "Соберись! Год високосный\n"
     ]
    }
   ],
   "source": [
    "year = int (input (\"Введите год \"))\n",
    "if (year % 4 == 0) and (year % 100 != 0) or (year % 400 == 0):\n",
    "    print('Соберись! Год високосный')\n",
    "else:\n",
    "    print('Обычный год')"
   ]
  },
  {
   "cell_type": "code",
   "execution_count": null,
   "metadata": {},
   "outputs": [],
   "source": [
    "# Задание 3. Астрологический календарь"
   ]
  },
  {
   "cell_type": "code",
   "execution_count": 86,
   "metadata": {},
   "outputs": [
    {
     "name": "stdout",
     "output_type": "stream",
     "text": [
      "Введите день 15\n",
      "Введите месяц июнь\n",
      "Ваш знак зодиака: Близнецы\n"
     ]
    }
   ],
   "source": [
    "user_input_day = int (input (\"Введите день \"))\n",
    "user_input_month = input (\"Введите месяц \")\n",
    "\n",
    "\n",
    "if (user_input_day >= 21 and user_input_day<=31 and user_input_month == \"март\"):\n",
    "        print (\"Ваш знак зодиака: Овен\")\n",
    "elif (user_input_day < 21  and user_input_month == \"апрель\"):\n",
    "        print (\"Ваш знак зодиака: Овен\")\n",
    "        \n",
    "elif (user_input_day >= 21 and user_input_day<=30 and user_input_month == \"апрель\"):\n",
    "        print (\"Ваш знак зодиака: Телец\")\n",
    "elif (user_input_day>=31 and user_input_month == \"апрель\"):\n",
    "        print (\"Ввели недопустимую дату\")\n",
    "elif (user_input_day <= 21 and user_input_month == \"май\"):\n",
    "        print (\"Ваш знак зодиака: Телец\") \n",
    "        \n",
    "elif (user_input_day >= 22 and user_input_day<=31 and user_input_month == \"май\"):\n",
    "        print (\"Ваш знак зодиака: Близнецы\")\n",
    "elif (user_input_day <= 21 and user_input_month == \"июнь\"):\n",
    "        print (\"Ваш знак зодиака: Близнецы\")\n",
    "        \n",
    "elif (user_input_day >= 22 and user_input_day<=30 and user_input_month == \"июнь\"):\n",
    "        print (\"Ваш знак зодиака: Рак\")\n",
    "elif (user_input_day>=31 and user_input_month == \"июнь\"):\n",
    "        print (\"Ввели недопустимую дату\")\n",
    "elif (user_input_day <= 22 and user_input_month == \"июль\"):\n",
    "        print (\"Ваш знак зодиака: Рак\")\n",
    "\n",
    "elif (user_input_day >= 23 and user_input_day<=31 and user_input_month == \"июль\"):\n",
    "        print (\"Ваш знак зодиака: Лев\")\n",
    "elif (user_input_day <= 21 and user_input_month == \"август\"):\n",
    "        print (\"Ваш знак зодиака: Лев\")\n",
    "        \n",
    "elif (user_input_day >= 22 and user_input_day<=31 and user_input_month == \"август\"):\n",
    "        print (\"Ваш знак зодиака: Дева\")\n",
    "elif (user_input_day <= 23 and user_input_month == \"сентябрь\"):\n",
    "        print (\"Ваш знак зодиака: Дева\")\n",
    "        \n",
    "elif (user_input_day >= 24 and user_input_day<=30 and user_input_month == \"сентябрь\"):\n",
    "        print (\"Ваш знак зодиака: Весы\")\n",
    "elif (user_input_day>=31 and user_input_month == \"сентябрь\"):\n",
    "        print (\"Ввели недопустимую дату\")\n",
    "elif (user_input_day <= 23 and user_input_month == \"октябрь\"):\n",
    "        print (\"Ваш знак зодиака: Весы\")     \n",
    "        \n",
    "elif (user_input_day >= 24 and user_input_day<=31 and user_input_month == \"октябрь\"):\n",
    "        print (\"Ваш знак зодиака: Скорпион\")\n",
    "elif (user_input_day <= 22 and user_input_month == \"ноябрь\"):\n",
    "        print (\"Ваш знак зодиака: Скорпион\")        \n",
    "\n",
    "elif (user_input_day >= 23 and user_input_day<=30 and user_input_month == \"ноябрь\"):\n",
    "        print (\"Ваш знак зодиака: Стрелец\")\n",
    "elif (user_input_day>=31 and user_input_month == \"ноябрь\"):\n",
    "        print (\"Ввели недопустимую дату\")\n",
    "elif (user_input_day <= 22 and user_input_month == \"декабрь\"):\n",
    "        print (\"Ваш знак зодиака: Стрелец\")\n",
    "        \n",
    "elif (user_input_day >= 23 and user_input_day<=31 and user_input_month == \"декабрь\"):\n",
    "        print (\"Ваш знак зодиака: Козерог\")\n",
    "elif (user_input_day <= 20 and user_input_month == \"январь\"):\n",
    "        print (\"Ваш знак зодиака: Козерог\")\n",
    "        \n",
    "elif (user_input_day >= 21 and user_input_day<=31 and user_input_month == \"январь\"):\n",
    "        print (\"Ваш знак зодиака: Водолей\")\n",
    "elif (user_input_day <= 19 and user_input_month == \"февраль\"):\n",
    "        print (\"Ваш знак зодиака: Водолей\")\n",
    "\n",
    "elif (user_input_day >= 20 and user_input_day<=29 and user_input_month == \"февраль\"):\n",
    "        print (\"Ваш знак зодиака: Рыбы\")\n",
    "elif (user_input_day>=30 and user_input_month == \"февраль\"):\n",
    "        print (\"Ввели недопустимую дату\")\n",
    "elif (user_input_day <= 20 and user_input_month == \"март\"):\n",
    "        print (\"Ваш знак зодиака: Рыбы\")\n",
    "\n",
    "else:\n",
    "    print (\"Ошибка ввода данных\")"
   ]
  },
  {
   "cell_type": "code",
   "execution_count": 52,
   "metadata": {},
   "outputs": [],
   "source": [
    "# Задание 4. Подбор упаковки"
   ]
  },
  {
   "cell_type": "code",
   "execution_count": 16,
   "metadata": {},
   "outputs": [
    {
     "name": "stdout",
     "output_type": "stream",
     "text": [
      "Упаковка для лыж\n"
     ]
    }
   ],
   "source": [
    "width = 10\n",
    "length = 205\n",
    "height = 5\n",
    "\n",
    "\n",
    "if (width < 15 and length < 15 and height < 15): \n",
    "    print (\"Коробка №1\")\n",
    "\n",
    "elif (15 < width < 50 or 15 < length < 50 or 15 < height < 50):\n",
    "    print (\"Коробка №2\")\n",
    "\n",
    "elif (length >= 200):\n",
    "    print (\"Упаковка для лыж\")\n",
    "    \n",
    "else: \n",
    "    print (\"Стандартная коробка №3\")"
   ]
  },
  {
   "cell_type": "code",
   "execution_count": null,
   "metadata": {},
   "outputs": [],
   "source": [
    "# Задание 5. Счастливый билет"
   ]
  },
  {
   "cell_type": "code",
   "execution_count": 70,
   "metadata": {},
   "outputs": [
    {
     "name": "stdout",
     "output_type": "stream",
     "text": [
      "Введите номер билета: 123060\n",
      "Счастливый\n"
     ]
    }
   ],
   "source": [
    "number_ticket = int (input (\"Введите номер билета: \"))\n",
    "\n",
    "left_three = number_ticket//1000\n",
    "\n",
    "one = left_three // 100\n",
    "two = left_three // 10 % 10    \n",
    "three = left_three % 10\n",
    "\n",
    "right_three = number_ticket % 1000\n",
    "\n",
    "four = right_three // 100\n",
    "five = right_three // 10 % 10\n",
    "six = right_three % 10\n",
    "\n",
    "if (one+two+three)==(four+five+six):\n",
    "    print ('Счастливый')\n",
    "else:\n",
    "    print ('Обычный')"
   ]
  },
  {
   "cell_type": "code",
   "execution_count": 71,
   "metadata": {},
   "outputs": [],
   "source": [
    "# Задание 6. Площади фигур"
   ]
  },
  {
   "cell_type": "code",
   "execution_count": 87,
   "metadata": {},
   "outputs": [
    {
     "name": "stdout",
     "output_type": "stream",
     "text": [
      "Введите тип фигуры: треугольник\n",
      "Введите длину стороны А: 2\n",
      "Введите длину стороны B: 2\n",
      "Введите длину стороны C: 3\n",
      "Площадь треугольника: \n",
      "1.98\n"
     ]
    }
   ],
   "source": [
    "type_figure = input (\"Введите тип фигуры: \")\n",
    "\n",
    "if (type_figure == \"круг\"):\n",
    "    radius = int (input (\"Введите радиус: \")) \n",
    "    area_circle = 3.1416*radius*radius\n",
    "    print (\"Площадь круга: \") \n",
    "    print (area_circle) \n",
    "\n",
    "elif (type_figure == \"прямоугольник\"):\n",
    "    side_1 = int (input (\"Введите длину стороны А: \"))\n",
    "    side_2 = int (input (\"Введите длину стороны B: \"))\n",
    "    area_rectangle = side_1*side_2\n",
    "    print (\"Площадь прямоугольника: \")\n",
    "    print (area_rectangle)\n",
    "    \n",
    "elif (type_figure == \"треугольник\"):\n",
    "    side_1 = int (input (\"Введите длину стороны А: \"))\n",
    "    side_2 = int (input (\"Введите длину стороны B: \"))\n",
    "    side_3 = int (input (\"Введите длину стороны C: \"))\n",
    "    \n",
    "    average = (side_1 + side_2 + side_3)/2\n",
    "    \n",
    "    \n",
    "    area_triangle = (average * (average - side_1) * (average - side_2) * (average - side_3)) ** 0.5\n",
    "    \n",
    "    area_triangle_okr = round (area_triangle, 2)\n",
    "    \n",
    "    print (\"Площадь треугольника: \")\n",
    "    print (area_triangle_okr)    \n",
    "    "
   ]
  },
  {
   "cell_type": "code",
   "execution_count": null,
   "metadata": {},
   "outputs": [],
   "source": []
  }
 ],
 "metadata": {
  "kernelspec": {
   "display_name": "Python 3",
   "language": "python",
   "name": "python3"
  },
  "language_info": {
   "codemirror_mode": {
    "name": "ipython",
    "version": 3
   },
   "file_extension": ".py",
   "mimetype": "text/x-python",
   "name": "python",
   "nbconvert_exporter": "python",
   "pygments_lexer": "ipython3",
   "version": "3.8.5"
  }
 },
 "nbformat": 4,
 "nbformat_minor": 4
}
